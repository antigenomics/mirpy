{
 "cells": [
  {
   "cell_type": "code",
   "execution_count": 1,
   "id": "94144fab-a5a1-4a21-bb29-978b582f0e9b",
   "metadata": {},
   "outputs": [],
   "source": [
    "import sys\n",
    "sys.path.append(\"../\")"
   ]
  },
  {
   "cell_type": "code",
   "execution_count": 22,
   "id": "9aaab39c-d071-4db4-bcb7-dcec350fa421",
   "metadata": {},
   "outputs": [],
   "source": [
    "from mir.common.parser import *\n",
    "from mir.common.repertoire import Repertoire\n",
    "from mir.common.repertoire_dataset import RepertoireDataset\n",
    "from mir.common.clonotype_dataset import ClonotypeDataset\n",
    "from mir.basic.segment_usage import *\n",
    "from mir.basic.sampling import RepertoireSampling\n",
    "from pympler.asizeof import asizeof\n",
    "from mir.biomarkers.fisher_biomarkers_detector import FisherBiomarkersDetector\n",
    "import time"
   ]
  },
  {
   "cell_type": "code",
   "execution_count": 3,
   "id": "99e8d4ab-22fb-4769-8a74-ed4a74a025db",
   "metadata": {},
   "outputs": [
    {
     "data": {
      "text/html": [
       "<div>\n",
       "<style scoped>\n",
       "    .dataframe tbody tr th:only-of-type {\n",
       "        vertical-align: middle;\n",
       "    }\n",
       "\n",
       "    .dataframe tbody tr th {\n",
       "        vertical-align: top;\n",
       "    }\n",
       "\n",
       "    .dataframe thead th {\n",
       "        text-align: right;\n",
       "    }\n",
       "</style>\n",
       "<table border=\"1\" class=\"dataframe\">\n",
       "  <thead>\n",
       "    <tr style=\"text-align: right;\">\n",
       "      <th></th>\n",
       "      <th>run</th>\n",
       "      <th>reads</th>\n",
       "      <th>clonotypes</th>\n",
       "      <th>folder</th>\n",
       "      <th>HLA-A.1</th>\n",
       "      <th>HLA-A.2</th>\n",
       "      <th>HLA-B.1</th>\n",
       "      <th>HLA-B.2</th>\n",
       "      <th>HLA-C.1</th>\n",
       "      <th>HLA-C.2</th>\n",
       "      <th>HLA-DPB1.1</th>\n",
       "      <th>HLA-DPB1.2</th>\n",
       "      <th>HLA-DQB1.1</th>\n",
       "      <th>HLA-DQB1.2</th>\n",
       "      <th>HLA-DRB1.1</th>\n",
       "      <th>HLA-DRB1.2</th>\n",
       "      <th>HLA-DRB4.1</th>\n",
       "      <th>HLA-DRB3.1</th>\n",
       "      <th>HLA-DRB5.1</th>\n",
       "    </tr>\n",
       "  </thead>\n",
       "  <tbody>\n",
       "    <tr>\n",
       "      <th>0</th>\n",
       "      <td>020000330101_S185_L002.clonotypes.TRB.txt</td>\n",
       "      <td>4558846</td>\n",
       "      <td>10762</td>\n",
       "      <td>2020/12_FMBA_Novaseq8_DNA</td>\n",
       "      <td>A*02:01</td>\n",
       "      <td>A*02:06</td>\n",
       "      <td>B*37:01</td>\n",
       "      <td>B*51:01</td>\n",
       "      <td>C*02:02</td>\n",
       "      <td>C*06:02</td>\n",
       "      <td>DPB1*03:01</td>\n",
       "      <td>DPB1*04:02</td>\n",
       "      <td>DQB1*03:01</td>\n",
       "      <td>DQB1*06:01</td>\n",
       "      <td>DRB1*08:03</td>\n",
       "      <td>DRB1*11:01</td>\n",
       "      <td>NaN</td>\n",
       "      <td>NaN</td>\n",
       "      <td>NaN</td>\n",
       "    </tr>\n",
       "    <tr>\n",
       "      <th>1</th>\n",
       "      <td>020003810808_S104_L002.clonotypes.TRB.txt</td>\n",
       "      <td>3117991</td>\n",
       "      <td>15211</td>\n",
       "      <td>2020/10_FMBA_NovaSeq5</td>\n",
       "      <td>A*01:02</td>\n",
       "      <td>A*31:01</td>\n",
       "      <td>B*07:02</td>\n",
       "      <td>B*15:16</td>\n",
       "      <td>C*07:02</td>\n",
       "      <td>C*14:02</td>\n",
       "      <td>DPB1*02:01</td>\n",
       "      <td>DPB1*04:01</td>\n",
       "      <td>DQB1*02:01</td>\n",
       "      <td>DQB1*06:02</td>\n",
       "      <td>DRB1*03:01</td>\n",
       "      <td>DRB1*15:01</td>\n",
       "      <td>NaN</td>\n",
       "      <td>NaN</td>\n",
       "      <td>NaN</td>\n",
       "    </tr>\n",
       "    <tr>\n",
       "      <th>2</th>\n",
       "      <td>020003840808_S118_L002.clonotypes.TRB.txt</td>\n",
       "      <td>1894167</td>\n",
       "      <td>8435</td>\n",
       "      <td>2020/10_FMBA_NovaSeq5</td>\n",
       "      <td>A*01:01</td>\n",
       "      <td>A*02:01</td>\n",
       "      <td>B*13:02</td>\n",
       "      <td>B*44:02</td>\n",
       "      <td>C*06:02</td>\n",
       "      <td>C*07:04</td>\n",
       "      <td>DPB1*03:01</td>\n",
       "      <td>DPB1*17:01</td>\n",
       "      <td>DQB1*02:02</td>\n",
       "      <td>DQB1*06:02</td>\n",
       "      <td>DRB1*07:01</td>\n",
       "      <td>DRB1*15:01</td>\n",
       "      <td>NaN</td>\n",
       "      <td>NaN</td>\n",
       "      <td>NaN</td>\n",
       "    </tr>\n",
       "    <tr>\n",
       "      <th>3</th>\n",
       "      <td>050000310808_S83_L001.clonotypes.TRB.txt</td>\n",
       "      <td>1407629</td>\n",
       "      <td>16454</td>\n",
       "      <td>2020/12_FMBA_Novaseq7_DNA</td>\n",
       "      <td>A*02:01</td>\n",
       "      <td>A*02:01</td>\n",
       "      <td>B*13:02</td>\n",
       "      <td>B*51:01</td>\n",
       "      <td>C*06:02</td>\n",
       "      <td>C*07:02</td>\n",
       "      <td>DPB1*04:01</td>\n",
       "      <td>DPB1*05:01</td>\n",
       "      <td>DQB1*02:02</td>\n",
       "      <td>DQB1*03:02</td>\n",
       "      <td>DRB1*04:03</td>\n",
       "      <td>DRB1*07:01</td>\n",
       "      <td>NaN</td>\n",
       "      <td>NaN</td>\n",
       "      <td>NaN</td>\n",
       "    </tr>\n",
       "    <tr>\n",
       "      <th>4</th>\n",
       "      <td>050000550101_S84_L001.clonotypes.TRB.txt</td>\n",
       "      <td>4039131</td>\n",
       "      <td>31101</td>\n",
       "      <td>2020/12_FMBA_Novaseq8_DNA</td>\n",
       "      <td>A*02:01</td>\n",
       "      <td>A*02:01</td>\n",
       "      <td>B*50:01</td>\n",
       "      <td>B*51:01</td>\n",
       "      <td>C*03:03</td>\n",
       "      <td>C*08:03</td>\n",
       "      <td>DPB1*04:01</td>\n",
       "      <td>DPB1*05:01</td>\n",
       "      <td>DQB1*02:02</td>\n",
       "      <td>DQB1*03:03</td>\n",
       "      <td>DRB1*07:01</td>\n",
       "      <td>DRB1*09:01</td>\n",
       "      <td>NaN</td>\n",
       "      <td>NaN</td>\n",
       "      <td>NaN</td>\n",
       "    </tr>\n",
       "    <tr>\n",
       "      <th>...</th>\n",
       "      <td>...</td>\n",
       "      <td>...</td>\n",
       "      <td>...</td>\n",
       "      <td>...</td>\n",
       "      <td>...</td>\n",
       "      <td>...</td>\n",
       "      <td>...</td>\n",
       "      <td>...</td>\n",
       "      <td>...</td>\n",
       "      <td>...</td>\n",
       "      <td>...</td>\n",
       "      <td>...</td>\n",
       "      <td>...</td>\n",
       "      <td>...</td>\n",
       "      <td>...</td>\n",
       "      <td>...</td>\n",
       "      <td>...</td>\n",
       "      <td>...</td>\n",
       "      <td>...</td>\n",
       "    </tr>\n",
       "    <tr>\n",
       "      <th>78</th>\n",
       "      <td>780003220808_S28_L001.clonotypes.TRB.txt</td>\n",
       "      <td>4494229</td>\n",
       "      <td>5699</td>\n",
       "      <td>2020/10_FMBA_NovaSeq4</td>\n",
       "      <td>A*01:01</td>\n",
       "      <td>A*02:01</td>\n",
       "      <td>B*38:01</td>\n",
       "      <td>B*56:01</td>\n",
       "      <td>C*01:02</td>\n",
       "      <td>C*12:03</td>\n",
       "      <td>DPB1*04:01</td>\n",
       "      <td>DPB1*04:01</td>\n",
       "      <td>DQB1*02:01</td>\n",
       "      <td>DQB1*06:03</td>\n",
       "      <td>DRB1*03:01</td>\n",
       "      <td>DRB1*13:01</td>\n",
       "      <td>NaN</td>\n",
       "      <td>NaN</td>\n",
       "      <td>NaN</td>\n",
       "    </tr>\n",
       "    <tr>\n",
       "      <th>79</th>\n",
       "      <td>780003440101_S87_L001.clonotypes.TRB.txt</td>\n",
       "      <td>2847425</td>\n",
       "      <td>17997</td>\n",
       "      <td>2020/12_FMBA_Novaseq8_DNA</td>\n",
       "      <td>A*02:01</td>\n",
       "      <td>A*30:01</td>\n",
       "      <td>B*13:02</td>\n",
       "      <td>B*41:02</td>\n",
       "      <td>C*06:02</td>\n",
       "      <td>C*17:03</td>\n",
       "      <td>DPB1*02:01</td>\n",
       "      <td>DPB1*04:01</td>\n",
       "      <td>DQB1*02:02</td>\n",
       "      <td>DQB1*03:01</td>\n",
       "      <td>DRB1*07:01</td>\n",
       "      <td>DRB1*11:01</td>\n",
       "      <td>NaN</td>\n",
       "      <td>NaN</td>\n",
       "      <td>NaN</td>\n",
       "    </tr>\n",
       "    <tr>\n",
       "      <th>80</th>\n",
       "      <td>780003510808_S92_L001.clonotypes.TRB.txt</td>\n",
       "      <td>567555</td>\n",
       "      <td>3645</td>\n",
       "      <td>2020/10_FMBA_NovaSeq4</td>\n",
       "      <td>A*25:01</td>\n",
       "      <td>A*26:01</td>\n",
       "      <td>B*07:02</td>\n",
       "      <td>B*57:01</td>\n",
       "      <td>C*06:02</td>\n",
       "      <td>C*07:02</td>\n",
       "      <td>DPB1*04:01</td>\n",
       "      <td>DPB1*11:01</td>\n",
       "      <td>DQB1*02:02</td>\n",
       "      <td>DQB1*03:03</td>\n",
       "      <td>DRB1*07:01</td>\n",
       "      <td>DRB1*07:01</td>\n",
       "      <td>NaN</td>\n",
       "      <td>NaN</td>\n",
       "      <td>NaN</td>\n",
       "    </tr>\n",
       "    <tr>\n",
       "      <th>81</th>\n",
       "      <td>780003930808_S76_L001.clonotypes.TRB.txt</td>\n",
       "      <td>224067</td>\n",
       "      <td>3609</td>\n",
       "      <td>2020/10_FMBA_NovaSeq4</td>\n",
       "      <td>A*03:01</td>\n",
       "      <td>A*26:01</td>\n",
       "      <td>B*18:01</td>\n",
       "      <td>B*35:01</td>\n",
       "      <td>C*04:01</td>\n",
       "      <td>C*07:01</td>\n",
       "      <td>DPB1*04:01</td>\n",
       "      <td>DPB1*04:02</td>\n",
       "      <td>DQB1*03:01</td>\n",
       "      <td>DQB1*05:01</td>\n",
       "      <td>DRB1*01:01</td>\n",
       "      <td>DRB1*11:04</td>\n",
       "      <td>NaN</td>\n",
       "      <td>NaN</td>\n",
       "      <td>NaN</td>\n",
       "    </tr>\n",
       "    <tr>\n",
       "      <th>82</th>\n",
       "      <td>780004000807_S5_L001.clonotypes.TRB.txt</td>\n",
       "      <td>1910398</td>\n",
       "      <td>9892</td>\n",
       "      <td>2020/10_FMBA_NovaSeq6</td>\n",
       "      <td>A*03:01</td>\n",
       "      <td>A*26:01</td>\n",
       "      <td>B*15:01N</td>\n",
       "      <td>B*35:01</td>\n",
       "      <td>C*03:04</td>\n",
       "      <td>C*04:01</td>\n",
       "      <td>DPB1*03:01</td>\n",
       "      <td>DPB1*04:02</td>\n",
       "      <td>DQB1*03:02</td>\n",
       "      <td>DQB1*05:01</td>\n",
       "      <td>DRB1*01:01</td>\n",
       "      <td>DRB1*04:01</td>\n",
       "      <td>NaN</td>\n",
       "      <td>NaN</td>\n",
       "      <td>NaN</td>\n",
       "    </tr>\n",
       "  </tbody>\n",
       "</table>\n",
       "<p>83 rows × 19 columns</p>\n",
       "</div>"
      ],
      "text/plain": [
       "                                          run    reads  clonotypes  \\\n",
       "0   020000330101_S185_L002.clonotypes.TRB.txt  4558846       10762   \n",
       "1   020003810808_S104_L002.clonotypes.TRB.txt  3117991       15211   \n",
       "2   020003840808_S118_L002.clonotypes.TRB.txt  1894167        8435   \n",
       "3    050000310808_S83_L001.clonotypes.TRB.txt  1407629       16454   \n",
       "4    050000550101_S84_L001.clonotypes.TRB.txt  4039131       31101   \n",
       "..                                        ...      ...         ...   \n",
       "78   780003220808_S28_L001.clonotypes.TRB.txt  4494229        5699   \n",
       "79   780003440101_S87_L001.clonotypes.TRB.txt  2847425       17997   \n",
       "80   780003510808_S92_L001.clonotypes.TRB.txt   567555        3645   \n",
       "81   780003930808_S76_L001.clonotypes.TRB.txt   224067        3609   \n",
       "82    780004000807_S5_L001.clonotypes.TRB.txt  1910398        9892   \n",
       "\n",
       "                       folder  HLA-A.1  HLA-A.2   HLA-B.1  HLA-B.2  HLA-C.1  \\\n",
       "0   2020/12_FMBA_Novaseq8_DNA  A*02:01  A*02:06   B*37:01  B*51:01  C*02:02   \n",
       "1       2020/10_FMBA_NovaSeq5  A*01:02  A*31:01   B*07:02  B*15:16  C*07:02   \n",
       "2       2020/10_FMBA_NovaSeq5  A*01:01  A*02:01   B*13:02  B*44:02  C*06:02   \n",
       "3   2020/12_FMBA_Novaseq7_DNA  A*02:01  A*02:01   B*13:02  B*51:01  C*06:02   \n",
       "4   2020/12_FMBA_Novaseq8_DNA  A*02:01  A*02:01   B*50:01  B*51:01  C*03:03   \n",
       "..                        ...      ...      ...       ...      ...      ...   \n",
       "78      2020/10_FMBA_NovaSeq4  A*01:01  A*02:01   B*38:01  B*56:01  C*01:02   \n",
       "79  2020/12_FMBA_Novaseq8_DNA  A*02:01  A*30:01   B*13:02  B*41:02  C*06:02   \n",
       "80      2020/10_FMBA_NovaSeq4  A*25:01  A*26:01   B*07:02  B*57:01  C*06:02   \n",
       "81      2020/10_FMBA_NovaSeq4  A*03:01  A*26:01   B*18:01  B*35:01  C*04:01   \n",
       "82      2020/10_FMBA_NovaSeq6  A*03:01  A*26:01  B*15:01N  B*35:01  C*03:04   \n",
       "\n",
       "    HLA-C.2  HLA-DPB1.1  HLA-DPB1.2  HLA-DQB1.1  HLA-DQB1.2  HLA-DRB1.1  \\\n",
       "0   C*06:02  DPB1*03:01  DPB1*04:02  DQB1*03:01  DQB1*06:01  DRB1*08:03   \n",
       "1   C*14:02  DPB1*02:01  DPB1*04:01  DQB1*02:01  DQB1*06:02  DRB1*03:01   \n",
       "2   C*07:04  DPB1*03:01  DPB1*17:01  DQB1*02:02  DQB1*06:02  DRB1*07:01   \n",
       "3   C*07:02  DPB1*04:01  DPB1*05:01  DQB1*02:02  DQB1*03:02  DRB1*04:03   \n",
       "4   C*08:03  DPB1*04:01  DPB1*05:01  DQB1*02:02  DQB1*03:03  DRB1*07:01   \n",
       "..      ...         ...         ...         ...         ...         ...   \n",
       "78  C*12:03  DPB1*04:01  DPB1*04:01  DQB1*02:01  DQB1*06:03  DRB1*03:01   \n",
       "79  C*17:03  DPB1*02:01  DPB1*04:01  DQB1*02:02  DQB1*03:01  DRB1*07:01   \n",
       "80  C*07:02  DPB1*04:01  DPB1*11:01  DQB1*02:02  DQB1*03:03  DRB1*07:01   \n",
       "81  C*07:01  DPB1*04:01  DPB1*04:02  DQB1*03:01  DQB1*05:01  DRB1*01:01   \n",
       "82  C*04:01  DPB1*03:01  DPB1*04:02  DQB1*03:02  DQB1*05:01  DRB1*01:01   \n",
       "\n",
       "    HLA-DRB1.2  HLA-DRB4.1  HLA-DRB3.1  HLA-DRB5.1  \n",
       "0   DRB1*11:01         NaN         NaN         NaN  \n",
       "1   DRB1*15:01         NaN         NaN         NaN  \n",
       "2   DRB1*15:01         NaN         NaN         NaN  \n",
       "3   DRB1*07:01         NaN         NaN         NaN  \n",
       "4   DRB1*09:01         NaN         NaN         NaN  \n",
       "..         ...         ...         ...         ...  \n",
       "78  DRB1*13:01         NaN         NaN         NaN  \n",
       "79  DRB1*11:01         NaN         NaN         NaN  \n",
       "80  DRB1*07:01         NaN         NaN         NaN  \n",
       "81  DRB1*11:04         NaN         NaN         NaN  \n",
       "82  DRB1*04:01         NaN         NaN         NaN  \n",
       "\n",
       "[83 rows x 19 columns]"
      ]
     },
     "execution_count": 3,
     "metadata": {},
     "output_type": "execute_result"
    }
   ],
   "source": [
    "metadata = pd.read_csv('assets/samples/fmba_healthy/desc_fmba_beta_healthy_not_nan_hla.csv').drop(columns=['Unnamed: 0'])\n",
    "metadata"
   ]
  },
  {
   "cell_type": "code",
   "execution_count": 4,
   "id": "8e4537b0-83df-4742-b95c-1ae6e9c45104",
   "metadata": {},
   "outputs": [
    {
     "name": "stdout",
     "output_type": "stream",
     "text": [
      "there are 82314 public clonotypes\n"
     ]
    },
    {
     "name": "stderr",
     "output_type": "stream",
     "text": [
      "clonotype usage matrix preparation: 100%|██████████| 32/32 [00:19<00:00,  1.60it/s]\n"
     ]
    },
    {
     "name": "stdout",
     "output_type": "stream",
     "text": [
      "69.83716750144958\n"
     ]
    }
   ],
   "source": [
    "t0 = time.time()\n",
    "dataset = RepertoireDataset.load(parser=VDJtoolsParser(sep=','), \n",
    "                                 metadata=metadata,\n",
    "                                 threads=32,\n",
    "                                 paths=[f'assets/samples/fmba_healthy/{r[\"run\"]}.gz' for _, r in metadata.iterrows()])\n",
    "print(time.time() - t0)"
   ]
  },
  {
   "cell_type": "code",
   "execution_count": 5,
   "id": "fbe70cbc-e3c8-44d6-a1a4-c14812e68662",
   "metadata": {},
   "outputs": [],
   "source": [
    "folder_to_run_mapping = {}\n",
    "for folder in dataset.metadata[['run', 'folder']].folder.unique():\n",
    "    folder_to_run_mapping[folder] = set(dataset.metadata[dataset.metadata.folder == folder].run)"
   ]
  },
  {
   "cell_type": "code",
   "execution_count": 6,
   "id": "58370df3-ddfe-4ac7-a512-1d5531c2beb8",
   "metadata": {},
   "outputs": [],
   "source": [
    "z_score_usage_table_v = StandardizedSegmentUsageTable.load_from_repertoire_dataset(\n",
    "    repertoire_dataset=dataset, \n",
    "    gene='TRB', \n",
    "    segment_type='V', \n",
    "    group_mapping=folder_to_run_mapping, \n",
    "    standardization_method='log_exp')\n",
    "z_score_usage_table_j = StandardizedSegmentUsageTable.load_from_repertoire_dataset(\n",
    "    repertoire_dataset=dataset, \n",
    "    gene='TRB', \n",
    "    segment_type='J', \n",
    "    group_mapping=folder_to_run_mapping, \n",
    "    standardization_method='log_exp')"
   ]
  },
  {
   "cell_type": "code",
   "execution_count": 7,
   "id": "c8e29e31-0561-47be-ad35-eed078916f3e",
   "metadata": {},
   "outputs": [
    {
     "name": "stderr",
     "output_type": "stream",
     "text": [
      "repertoire resampling in progress: 100%|██████████| 83/83 [00:24<00:00,  3.33it/s]\n"
     ]
    },
    {
     "name": "stdout",
     "output_type": "stream",
     "text": [
      "there are 73997 public clonotypes\n"
     ]
    },
    {
     "name": "stderr",
     "output_type": "stream",
     "text": [
      "clonotype usage matrix preparation: 100%|██████████| 32/32 [00:19<00:00,  1.68it/s]\n"
     ]
    },
    {
     "name": "stdout",
     "output_type": "stream",
     "text": [
      "78.8070764541626\n"
     ]
    }
   ],
   "source": [
    "t0 = time.time()\n",
    "dataset = dataset.resample(updated_segment_usage_tables=[z_score_usage_table_v, z_score_usage_table_j], \n",
    "                                    threads=32)\n",
    "print(time.time() - t0)"
   ]
  },
  {
   "cell_type": "code",
   "execution_count": 8,
   "id": "c4d03c76-84b0-42f7-8c61-510e1e4f5946",
   "metadata": {},
   "outputs": [
    {
     "data": {
      "text/plain": [
       "There are 83 repertoires in the dataset\n",
       "                                         run    reads  clonotypes  \\\n",
       "0  020000330101_S185_L002.clonotypes.TRB.txt  4558846       10762   \n",
       "1  020003810808_S104_L002.clonotypes.TRB.txt  3117991       15211   \n",
       "2  020003840808_S118_L002.clonotypes.TRB.txt  1894167        8435   \n",
       "3   050000310808_S83_L001.clonotypes.TRB.txt  1407629       16454   \n",
       "4   050000550101_S84_L001.clonotypes.TRB.txt  4039131       31101   \n",
       "\n",
       "                      folder  HLA-A.1  HLA-A.2  HLA-B.1  HLA-B.2  HLA-C.1  \\\n",
       "0  2020/12_FMBA_Novaseq8_DNA  A*02:01  A*02:06  B*37:01  B*51:01  C*02:02   \n",
       "1      2020/10_FMBA_NovaSeq5  A*01:02  A*31:01  B*07:02  B*15:16  C*07:02   \n",
       "2      2020/10_FMBA_NovaSeq5  A*01:01  A*02:01  B*13:02  B*44:02  C*06:02   \n",
       "3  2020/12_FMBA_Novaseq7_DNA  A*02:01  A*02:01  B*13:02  B*51:01  C*06:02   \n",
       "4  2020/12_FMBA_Novaseq8_DNA  A*02:01  A*02:01  B*50:01  B*51:01  C*03:03   \n",
       "\n",
       "   HLA-C.2  HLA-DPB1.1  HLA-DPB1.2  HLA-DQB1.1  HLA-DQB1.2  HLA-DRB1.1  \\\n",
       "0  C*06:02  DPB1*03:01  DPB1*04:02  DQB1*03:01  DQB1*06:01  DRB1*08:03   \n",
       "1  C*14:02  DPB1*02:01  DPB1*04:01  DQB1*02:01  DQB1*06:02  DRB1*03:01   \n",
       "2  C*07:04  DPB1*03:01  DPB1*17:01  DQB1*02:02  DQB1*06:02  DRB1*07:01   \n",
       "3  C*07:02  DPB1*04:01  DPB1*05:01  DQB1*02:02  DQB1*03:02  DRB1*04:03   \n",
       "4  C*08:03  DPB1*04:01  DPB1*05:01  DQB1*02:02  DQB1*03:03  DRB1*07:01   \n",
       "\n",
       "   HLA-DRB1.2  HLA-DRB4.1  HLA-DRB3.1  HLA-DRB5.1  \\\n",
       "0  DRB1*11:01         NaN         NaN         NaN   \n",
       "1  DRB1*15:01         NaN         NaN         NaN   \n",
       "2  DRB1*15:01         NaN         NaN         NaN   \n",
       "3  DRB1*07:01         NaN         NaN         NaN   \n",
       "4  DRB1*09:01         NaN         NaN         NaN   \n",
       "\n",
       "                                                path  \n",
       "0  assets/samples/fmba_healthy/020000330101_S185_...  \n",
       "1  assets/samples/fmba_healthy/020003810808_S104_...  \n",
       "2  assets/samples/fmba_healthy/020003840808_S118_...  \n",
       "3  assets/samples/fmba_healthy/050000310808_S83_L...  \n",
       "4  assets/samples/fmba_healthy/050000550101_S84_L...  "
      ]
     },
     "execution_count": 8,
     "metadata": {},
     "output_type": "execute_result"
    }
   ],
   "source": [
    "dataset"
   ]
  },
  {
   "cell_type": "code",
   "execution_count": 9,
   "id": "31c04d6b-445d-47da-b4cc-e087a6f031a3",
   "metadata": {},
   "outputs": [
    {
     "data": {
      "text/plain": [
       "<83x73997 sparse matrix of type '<class 'numpy.float64'>'\n",
       "\twith 1507267 stored elements in Compressed Sparse Column format>"
      ]
     },
     "execution_count": 9,
     "metadata": {},
     "output_type": "execute_result"
    }
   ],
   "source": [
    "dataset.clonotype_usage_matrix.clonotype_database_usage"
   ]
  },
  {
   "cell_type": "code",
   "execution_count": 23,
   "id": "d21bdfad-89ca-4fe1-9971-f26b059d19c1",
   "metadata": {},
   "outputs": [
    {
     "data": {
      "text/plain": [
       "18384576"
      ]
     },
     "execution_count": 23,
     "metadata": {},
     "output_type": "execute_result"
    }
   ],
   "source": [
    "asizeof(dataset.clonotype_usage_matrix.clonotype_database_usage)"
   ]
  },
  {
   "cell_type": "code",
   "execution_count": 10,
   "id": "0e50e23c-f334-476a-a0ce-4ef048278136",
   "metadata": {},
   "outputs": [
    {
     "name": "stdout",
     "output_type": "stream",
     "text": [
      "there are 34358 public clonotypes\n"
     ]
    },
    {
     "name": "stderr",
     "output_type": "stream",
     "text": [
      "clonotype usage matrix preparation: 100%|██████████| 32/32 [00:08<00:00,  3.58it/s]\n"
     ]
    },
    {
     "name": "stdout",
     "output_type": "stream",
     "text": [
      "there are 27636 public clonotypes\n"
     ]
    },
    {
     "name": "stderr",
     "output_type": "stream",
     "text": [
      "clonotype usage matrix preparation: 100%|██████████| 32/32 [00:11<00:00,  2.83it/s]\n"
     ]
    }
   ],
   "source": [
    "a02_pos_rd, a02_neg_rd = dataset.split_by_metadata_function(\n",
    "        splitting_method=lambda x: ('A*02' in x['HLA-A.1']) | ('A*02' in x['HLA-A.2'])\n",
    "    )"
   ]
  },
  {
   "cell_type": "code",
   "execution_count": 11,
   "id": "6574ee46-7344-4629-8f54-ead1ef3d2bbc",
   "metadata": {},
   "outputs": [
    {
     "data": {
      "text/plain": [
       "There are 47 repertoires in the dataset\n",
       "                                         run    reads  clonotypes  \\\n",
       "0  020000330101_S185_L002.clonotypes.TRB.txt  4558846       10762   \n",
       "1  020003840808_S118_L002.clonotypes.TRB.txt  1894167        8435   \n",
       "2   050000310808_S83_L001.clonotypes.TRB.txt  1407629       16454   \n",
       "3   050000550101_S84_L001.clonotypes.TRB.txt  4039131       31101   \n",
       "4   050000740101_S76_L001.clonotypes.TRB.txt  4541635       20570   \n",
       "\n",
       "                      folder  HLA-A.1  HLA-A.2  HLA-B.1  HLA-B.2  HLA-C.1  \\\n",
       "0  2020/12_FMBA_Novaseq8_DNA  A*02:01  A*02:06  B*37:01  B*51:01  C*02:02   \n",
       "1      2020/10_FMBA_NovaSeq5  A*01:01  A*02:01  B*13:02  B*44:02  C*06:02   \n",
       "2  2020/12_FMBA_Novaseq7_DNA  A*02:01  A*02:01  B*13:02  B*51:01  C*06:02   \n",
       "3  2020/12_FMBA_Novaseq8_DNA  A*02:01  A*02:01  B*50:01  B*51:01  C*03:03   \n",
       "4  2020/12_FMBA_Novaseq8_DNA  A*02:01  A*03:01  B*27:05  B*35:01  C*01:02   \n",
       "\n",
       "   HLA-C.2  HLA-DPB1.1  HLA-DPB1.2  HLA-DQB1.1  HLA-DQB1.2  HLA-DRB1.1  \\\n",
       "0  C*06:02  DPB1*03:01  DPB1*04:02  DQB1*03:01  DQB1*06:01  DRB1*08:03   \n",
       "1  C*07:04  DPB1*03:01  DPB1*17:01  DQB1*02:02  DQB1*06:02  DRB1*07:01   \n",
       "2  C*07:02  DPB1*04:01  DPB1*05:01  DQB1*02:02  DQB1*03:02  DRB1*04:03   \n",
       "3  C*08:03  DPB1*04:01  DPB1*05:01  DQB1*02:02  DQB1*03:03  DRB1*07:01   \n",
       "4  C*04:01  DPB1*04:01  DPB1*04:02  DQB1*02:01  DQB1*05:01  DRB1*01:01   \n",
       "\n",
       "   HLA-DRB1.2  HLA-DRB4.1  HLA-DRB3.1  HLA-DRB5.1  \\\n",
       "0  DRB1*11:01         NaN         NaN         NaN   \n",
       "1  DRB1*15:01         NaN         NaN         NaN   \n",
       "2  DRB1*07:01         NaN         NaN         NaN   \n",
       "3  DRB1*09:01         NaN         NaN         NaN   \n",
       "4  DRB1*03:01         NaN         NaN         NaN   \n",
       "\n",
       "                                                path  \n",
       "0  assets/samples/fmba_healthy/020000330101_S185_...  \n",
       "1  assets/samples/fmba_healthy/020003840808_S118_...  \n",
       "2  assets/samples/fmba_healthy/050000310808_S83_L...  \n",
       "3  assets/samples/fmba_healthy/050000550101_S84_L...  \n",
       "4  assets/samples/fmba_healthy/050000740101_S76_L...  "
      ]
     },
     "execution_count": 11,
     "metadata": {},
     "output_type": "execute_result"
    }
   ],
   "source": [
    "a02_pos_rd"
   ]
  },
  {
   "cell_type": "code",
   "execution_count": 12,
   "id": "e9b96f31-09a6-4f48-b2df-1b8be6354087",
   "metadata": {},
   "outputs": [
    {
     "data": {
      "text/plain": [
       "There are 36 repertoires in the dataset\n",
       "                                         run    reads  clonotypes  \\\n",
       "0  020003810808_S104_L002.clonotypes.TRB.txt  3117991       15211   \n",
       "1  210001740808_S153_L002.clonotypes.TRB.txt  7783196       14797   \n",
       "2   210002270101_S70_L001.clonotypes.TRB.txt  4197826       29344   \n",
       "3   210003070808_S84_L001.clonotypes.TRB.txt  4902255       12855   \n",
       "4   270000130807_S31_L001.clonotypes.TRB.txt  7782061       22626   \n",
       "\n",
       "                      folder  HLA-A.1  HLA-A.2  HLA-B.1  HLA-B.2  HLA-C.1  \\\n",
       "0      2020/10_FMBA_NovaSeq5  A*01:02  A*31:01  B*07:02  B*15:16  C*07:02   \n",
       "1      2020/10_FMBA_NovaSeq4  A*29:02  A*30:01  B*13:02  B*51:08  C*06:02   \n",
       "2  2020/12_FMBA_Novaseq8_DNA  A*03:01  A*03:01  B*35:01  B*40:02  C*03:03   \n",
       "3      2020/10_FMBA_NovaSeq4  A*24:02  A*26:01  B*27:14  B*35:02  C*01:02   \n",
       "4      2020/10_FMBA_NovaSeq6  A*01:01  A*30:01  B*08:01  B*13:02  C*06:02   \n",
       "\n",
       "   HLA-C.2  HLA-DPB1.1  HLA-DPB1.2  HLA-DQB1.1  HLA-DQB1.2  HLA-DRB1.1  \\\n",
       "0  C*14:02  DPB1*02:01  DPB1*04:01  DQB1*02:01  DQB1*06:02  DRB1*03:01   \n",
       "1  C*16:02  DPB1*02:01  DPB1*02:01  DQB1*02:02  DQB1*06:09  DRB1*07:01   \n",
       "2  C*03:03  DPB1*04:01  DPB1*04:01  DQB1*03:02  DQB1*04:02  DRB1*04:03   \n",
       "3  C*04:01  DPB1*03:01  DPB1*04:02  DQB1*03:01  DQB1*05:01  DRB1*01:01   \n",
       "4  C*07:01  DPB1*02:01  DPB1*04:01  DQB1*02:01  DQB1*03:01  DRB1*03:01   \n",
       "\n",
       "   HLA-DRB1.2  HLA-DRB4.1  HLA-DRB3.1  HLA-DRB5.1  \\\n",
       "0  DRB1*15:01         NaN         NaN         NaN   \n",
       "1  DRB1*13:02         NaN         NaN         NaN   \n",
       "2  DRB1*08:01         NaN         NaN         NaN   \n",
       "3  DRB1*11:04         NaN         NaN         NaN   \n",
       "4  DRB1*12:01         NaN         NaN         NaN   \n",
       "\n",
       "                                                path  \n",
       "0  assets/samples/fmba_healthy/020003810808_S104_...  \n",
       "1  assets/samples/fmba_healthy/210001740808_S153_...  \n",
       "2  assets/samples/fmba_healthy/210002270101_S70_L...  \n",
       "3  assets/samples/fmba_healthy/210003070808_S84_L...  \n",
       "4  assets/samples/fmba_healthy/270000130807_S31_L...  "
      ]
     },
     "execution_count": 12,
     "metadata": {},
     "output_type": "execute_result"
    }
   ],
   "source": [
    "a02_neg_rd"
   ]
  },
  {
   "cell_type": "code",
   "execution_count": 13,
   "id": "17bf3cff-fc1e-45b0-84d6-a0510728d80e",
   "metadata": {},
   "outputs": [
    {
     "name": "stdout",
     "output_type": "stream",
     "text": [
      "created a fisher biomarker detector with 28 threads\n"
     ]
    }
   ],
   "source": [
    "fbd = FisherBiomarkersDetector(control_repertoire_dataset=a02_pos_rd,\n",
    "                               ill_repertoire_dataset=a02_neg_rd, \n",
    "                               adjusted_p_value=0.05, \n",
    "                               threads=28)"
   ]
  },
  {
   "cell_type": "code",
   "execution_count": 14,
   "id": "3e2c7ddb-ad0e-41e4-b0f3-bde20079a0bf",
   "metadata": {},
   "outputs": [
    {
     "name": "stdout",
     "output_type": "stream",
     "text": [
      "there are 56201 public clonotypes in ill repertoire\n"
     ]
    },
    {
     "name": "stderr",
     "output_type": "stream",
     "text": [
      "/home/evlasova/mirpy/notebooks/../mir/biomarkers/fisher_biomarkers_detector.py:75: TqdmWarning: Iterable length 56201 > 1000 but `chunksize` is not set. This may seriously degrade multiprocess performance. Set `chunksize=1` or more.\n",
      "  process_map(get_p_value_for_one_clonotype,\n",
      "fisher testing in progress: 100%|██████████| 56201/56201 [00:12<00:00, 4624.05it/s]\n"
     ]
    },
    {
     "name": "stdout",
     "output_type": "stream",
     "text": [
      "104.38079237937927\n"
     ]
    }
   ],
   "source": [
    "t0 = time.time()\n",
    "biomarkers = fbd.detect_biomarkers(adjusted_p_value=0.0005)\n",
    "print(time.time() - t0)"
   ]
  },
  {
   "cell_type": "code",
   "execution_count": 15,
   "id": "ac0d16f5-144b-410d-959d-e7cae4cb84c2",
   "metadata": {},
   "outputs": [
    {
     "data": {
      "text/plain": [
       "<47x34358 sparse matrix of type '<class 'numpy.float64'>'\n",
       "\twith 471143 stored elements in Compressed Sparse Column format>"
      ]
     },
     "execution_count": 15,
     "metadata": {},
     "output_type": "execute_result"
    }
   ],
   "source": [
    "a02_pos_rd.clonotype_usage_matrix.clonotype_database_usage"
   ]
  },
  {
   "cell_type": "code",
   "execution_count": 16,
   "id": "2631746e-95f5-457e-bb0a-80eb67462e27",
   "metadata": {},
   "outputs": [],
   "source": [
    "import importlib\n",
    "imported_module = importlib.import_module(\"mir.basic.clonotype_usage\")\n",
    "importlib.reload(imported_module)\n",
    "from mir.basic.clonotype_usage import ClonotypeUsageTable"
   ]
  },
  {
   "cell_type": "code",
   "execution_count": 17,
   "id": "00a32023-f279-46fe-973d-9f3ac3788646",
   "metadata": {},
   "outputs": [],
   "source": [
    "cd = ClonotypeDataset(clonotypes=[ClonotypeAA(cdr3aa=x) for x in biomarkers])"
   ]
  },
  {
   "cell_type": "code",
   "execution_count": 18,
   "id": "e2f4d8a9-d2d6-475f-be53-93cbe5733d90",
   "metadata": {},
   "outputs": [
    {
     "data": {
      "text/html": [
       "<div>\n",
       "<style scoped>\n",
       "    .dataframe tbody tr th:only-of-type {\n",
       "        vertical-align: middle;\n",
       "    }\n",
       "\n",
       "    .dataframe tbody tr th {\n",
       "        vertical-align: top;\n",
       "    }\n",
       "\n",
       "    .dataframe thead th {\n",
       "        text-align: right;\n",
       "    }\n",
       "</style>\n",
       "<table border=\"1\" class=\"dataframe\">\n",
       "  <thead>\n",
       "    <tr style=\"text-align: right;\">\n",
       "      <th></th>\n",
       "      <th>cdr3aa</th>\n",
       "      <th>cluster</th>\n",
       "    </tr>\n",
       "    <tr>\n",
       "      <th>vertex ID</th>\n",
       "      <th></th>\n",
       "      <th></th>\n",
       "    </tr>\n",
       "  </thead>\n",
       "  <tbody>\n",
       "    <tr>\n",
       "      <th>0</th>\n",
       "      <td>CASSPGTDNQPQHF</td>\n",
       "      <td>0</td>\n",
       "    </tr>\n",
       "    <tr>\n",
       "      <th>1</th>\n",
       "      <td>CASSLGTDNQPQHF</td>\n",
       "      <td>0</td>\n",
       "    </tr>\n",
       "    <tr>\n",
       "      <th>2</th>\n",
       "      <td>CASSPGQDNQPQHF</td>\n",
       "      <td>0</td>\n",
       "    </tr>\n",
       "    <tr>\n",
       "      <th>3</th>\n",
       "      <td>CASSPGTANQPQHF</td>\n",
       "      <td>0</td>\n",
       "    </tr>\n",
       "    <tr>\n",
       "      <th>4</th>\n",
       "      <td>CASSVLGSSYNEQFF</td>\n",
       "      <td>1</td>\n",
       "    </tr>\n",
       "    <tr>\n",
       "      <th>...</th>\n",
       "      <td>...</td>\n",
       "      <td>...</td>\n",
       "    </tr>\n",
       "    <tr>\n",
       "      <th>8180</th>\n",
       "      <td>CASSSLAGGRDTQYF</td>\n",
       "      <td>1809</td>\n",
       "    </tr>\n",
       "    <tr>\n",
       "      <th>8181</th>\n",
       "      <td>CASSFDRATDTQYF</td>\n",
       "      <td>1810</td>\n",
       "    </tr>\n",
       "    <tr>\n",
       "      <th>8182</th>\n",
       "      <td>CASSSTSGGSYEQYF</td>\n",
       "      <td>1811</td>\n",
       "    </tr>\n",
       "    <tr>\n",
       "      <th>8183</th>\n",
       "      <td>CASSPPGGTQYF</td>\n",
       "      <td>1812</td>\n",
       "    </tr>\n",
       "    <tr>\n",
       "      <th>8184</th>\n",
       "      <td>CASRLAGGSYNEQFF</td>\n",
       "      <td>1813</td>\n",
       "    </tr>\n",
       "  </tbody>\n",
       "</table>\n",
       "<p>8185 rows × 2 columns</p>\n",
       "</div>"
      ],
      "text/plain": [
       "                    cdr3aa  cluster\n",
       "vertex ID                          \n",
       "0           CASSPGTDNQPQHF        0\n",
       "1           CASSLGTDNQPQHF        0\n",
       "2           CASSPGQDNQPQHF        0\n",
       "3           CASSPGTANQPQHF        0\n",
       "4          CASSVLGSSYNEQFF        1\n",
       "...                    ...      ...\n",
       "8180       CASSSLAGGRDTQYF     1809\n",
       "8181        CASSFDRATDTQYF     1810\n",
       "8182       CASSSTSGGSYEQYF     1811\n",
       "8183          CASSPPGGTQYF     1812\n",
       "8184       CASRLAGGSYNEQFF     1813\n",
       "\n",
       "[8185 rows x 2 columns]"
      ]
     },
     "execution_count": 18,
     "metadata": {},
     "output_type": "execute_result"
    }
   ],
   "source": [
    "cd.clonotype_clustering"
   ]
  },
  {
   "cell_type": "code",
   "execution_count": 19,
   "id": "cac18e9c-b5f9-422d-b86f-6128b45cfa52",
   "metadata": {},
   "outputs": [
    {
     "data": {
      "text/plain": [
       "cluster\n",
       "22      486\n",
       "13      450\n",
       "14      296\n",
       "26      292\n",
       "16      287\n",
       "       ... \n",
       "1772      1\n",
       "1773      1\n",
       "1774      1\n",
       "1775      1\n",
       "1776      1\n",
       "Name: count, Length: 1814, dtype: int64"
      ]
     },
     "execution_count": 19,
     "metadata": {},
     "output_type": "execute_result"
    }
   ],
   "source": [
    "cd.clonotype_clustering.cluster.value_counts()"
   ]
  },
  {
   "cell_type": "code",
   "execution_count": 20,
   "id": "30fe42d7-a616-4565-967f-d28d609edd73",
   "metadata": {},
   "outputs": [
    {
     "name": "stderr",
     "output_type": "stream",
     "text": [
      "/home/evlasova/mirpy/notebooks/../mir/common/clonotype_dataset.py:160: UserWarning: \n",
      "The palette list has fewer values (100) than needed (743) and will cycle, which may produce an uninterpretable plot.\n",
      "  sns.scatterplot(plotting_df[plotting_df.cluster_size > 1], x='x', y='y', hue=color_by,\n"
     ]
    },
    {
     "data": {
      "text/plain": [
       "<matplotlib.legend.Legend at 0x7f75f1038c10>"
      ]
     },
     "execution_count": 20,
     "metadata": {},
     "output_type": "execute_result"
    },
    {
     "data": {
      "image/png": "[encoded data removed]",
      "text/plain": [
       "<Figure size 432x288 with 1 Axes>"
      ]
     },
     "metadata": {
      "needs_background": "light"
     },
     "output_type": "display_data"
    }
   ],
   "source": [
    "fig, ax = plt.subplots()\n",
    "cd.plot_clonotype_clustering(color_by='cluster', ax=ax, plot_unclustered=False)\n",
    "ax.legend([])"
   ]
  },
  {
   "cell_type": "code",
   "execution_count": null,
   "id": "b12eb771-9406-43e9-99dc-9e191c589bea",
   "metadata": {},
   "outputs": [],
   "source": []
  }
 ],
 "metadata": {
  "kernelspec": {
   "display_name": "bio-3-11",
   "language": "python",
   "name": "bio-3-11"
  },
  "language_info": {
   "codemirror_mode": {
    "name": "ipython",
    "version": 3
   },
   "file_extension": ".py",
   "mimetype": "text/x-python",
   "name": "python",
   "nbconvert_exporter": "python",
   "pygments_lexer": "ipython3",
   "version": "3.11.4"
  }
 },
 "nbformat": 4,
 "nbformat_minor": 5
}
