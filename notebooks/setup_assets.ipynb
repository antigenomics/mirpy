{
 "cells": [
  {
   "cell_type": "markdown",
   "id": "4c0c9099",
   "metadata": {},
   "source": [
    "Load VDJdb data"
   ]
  },
  {
   "cell_type": "code",
   "execution_count": 28,
   "id": "f74357f5",
   "metadata": {
    "vscode": {
     "languageId": "shellscript"
    }
   },
   "outputs": [
    {
     "name": "stdout",
     "output_type": "stream",
     "text": [
      "Archive:  vdjdb-2023-06-01.zip\n",
      "  inflating: vdjdb_full.txt          \n",
      "  inflating: latest-version.txt      \n",
      "  inflating: vdjdb.meta.txt          \n",
      "  inflating: vdjdb.slim.txt          \n",
      "  inflating: vdjdb.slim.meta.txt     \n",
      "  inflating: vdjdb_summary_embed.html  \n",
      "  inflating: cluster_members.txt     \n",
      "  inflating: vdjdb.txt               \n",
      "  inflating: motif_pwms.txt          \n",
      "  inflating: LICENSE.txt             \n"
     ]
    },
    {
     "name": "stderr",
     "output_type": "stream",
     "text": [
      "** Resuming transfer from byte position 10605260\n",
      "  % Total    % Received % Xferd  Average Speed   Time    Time     Time  Current\n",
      "                                 Dload  Upload   Total   Spent    Left  Speed\n",
      "\r\n",
      "  0     0    0     0    0     0      0      0 --:--:-- --:--:-- --:--:--     0\r\n",
      "  0     0    0     0    0     0      0      0 --:--:-- --:--:-- --:--:--     0\n"
     ]
    }
   ],
   "source": [
    "%%bash\n",
    "cd assets/\n",
    "curl -C - https://github.com/antigenomics/vdjdb-db/releases/download/2023-06-01/vdjdb-2023-06-01.zip -o vdjdb-2023-06-01.zip\n",
    "unzip -o vdjdb-2023-06-01.zip"
   ]
  },
  {
   "cell_type": "markdown",
   "id": "617a485d",
   "metadata": {},
   "source": [
    "Generate some sequences using OLGA"
   ]
  },
  {
   "cell_type": "code",
   "execution_count": 29,
   "id": "39a72bc7",
   "metadata": {},
   "outputs": [
    {
     "name": "stdout",
     "output_type": "stream",
     "text": [
      "Collecting git+https://github.com/statbiophys/OLGA\n",
      "  Cloning https://github.com/statbiophys/OLGA to /private/var/folders/w1/pqrcnlxn3ss93t6764fdgp1c0000gn/T/pip-req-build-f5g7obek\n",
      "  Resolved https://github.com/statbiophys/OLGA to commit 4e0bc36ec40acc2ad93b2878e348512e71955a01\n",
      "  Preparing metadata (setup.py): started\n",
      "  Preparing metadata (setup.py): finished with status 'done'\n",
      "Building wheels for collected packages: olga\n",
      "  Building wheel for olga (setup.py): started\n",
      "  Building wheel for olga (setup.py): finished with status 'done'\n",
      "  Created wheel for olga: filename=olga-1.2.4-py3-none-any.whl size=364806 sha256=440efd6be501ef8d995606f13a69927fd29908e5f26bb7fad67926174fa537a5\n",
      "  Stored in directory: /private/var/folders/w1/pqrcnlxn3ss93t6764fdgp1c0000gn/T/pip-ephem-wheel-cache-vhvvasmx/wheels/9b/22/65/9293c04e7cbcdee55dc6cddfda8bca387711fb58853991e88e\n",
      "Successfully built olga\n",
      "Installing collected packages: olga\n",
      "Successfully installed olga-1.2.4\n"
     ]
    },
    {
     "name": "stderr",
     "output_type": "stream",
     "text": [
      "  Running command git clone --filter=blob:none --quiet https://github.com/statbiophys/OLGA /private/var/folders/w1/pqrcnlxn3ss93t6764fdgp1c0000gn/T/pip-req-build-f5g7obek\n"
     ]
    }
   ],
   "source": [
    "%%bash\n",
    "#pip install git+https://github.com/statbiophys/OLGA"
   ]
  },
  {
   "cell_type": "code",
   "execution_count": 32,
   "id": "723b24a3",
   "metadata": {
    "vscode": {
     "languageId": "shellscript"
    }
   },
   "outputs": [
    {
     "name": "stdout",
     "output_type": "stream",
     "text": [
      "Starting sequence generation... \n",
      "100000 sequences generated in 6.82 seconds. Estimated time remaining: 1 minutes and 1.36 seconds.\n",
      "200000 sequences generated in 13.67 seconds. Estimated time remaining: 54.68 seconds.\n",
      "300000 sequences generated in 20.40 seconds. Estimated time remaining: 47.61 seconds.\n",
      "400000 sequences generated in 27.23 seconds. Estimated time remaining: 40.84 seconds.\n",
      "500000 sequences generated in 34.04 seconds. Estimated time remaining: 34.04 seconds.\n",
      "600000 sequences generated in 40.90 seconds. Estimated time remaining: 27.27 seconds.\n",
      "700000 sequences generated in 47.77 seconds. Estimated time remaining: 20.47 seconds.\n",
      "800000 sequences generated in 54.60 seconds. Estimated time remaining: 13.65 seconds.\n",
      "900000 sequences generated in 1 minutes and 2.19 seconds. Estimated time remaining: 6.91 seconds.\n",
      "1000000 sequences generated in 1 minutes and 9.19 seconds. Estimated time remaining: 0.00 seconds.\n",
      "Completed generating all 1000000 sequences in 1 minutes and 9.19 seconds.\n"
     ]
    }
   ],
   "source": [
    "%%bash\n",
    "olga-generate_sequences --humanTRB --seed=42 -n 1000000 -o assets/olga_humanTRB.txt"
   ]
  },
  {
   "cell_type": "code",
   "execution_count": null,
   "id": "48f58e9d",
   "metadata": {},
   "outputs": [],
   "source": []
  }
 ],
 "metadata": {
  "kernelspec": {
   "display_name": "Python 3",
   "language": "python",
   "name": "python3"
  },
  "language_info": {
   "codemirror_mode": {
    "name": "ipython",
    "version": 3
   },
   "file_extension": ".py",
   "mimetype": "text/x-python",
   "name": "python",
   "nbconvert_exporter": "python",
   "pygments_lexer": "ipython3",
   "version": "3.8.5"
  }
 },
 "nbformat": 4,
 "nbformat_minor": 5
}
