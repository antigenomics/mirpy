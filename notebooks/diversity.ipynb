{
 "cells": [
  {
   "cell_type": "code",
   "execution_count": 1,
   "metadata": {},
   "outputs": [],
   "source": [
    "import sys\n",
    "sys.path.append(\"../\")\n",
    "from mir.common import parser, SegmentLibrary, Repertoire\n",
    "from mir.basic import DiversityIndices, RarefactionCurve\n",
    "import pandas as pd"
   ]
  },
  {
   "cell_type": "code",
   "execution_count": 2,
   "metadata": {},
   "outputs": [
    {
     "data": {
      "text/html": [
       "<div>\n",
       "<style scoped>\n",
       "    .dataframe tbody tr th:only-of-type {\n",
       "        vertical-align: middle;\n",
       "    }\n",
       "\n",
       "    .dataframe tbody tr th {\n",
       "        vertical-align: top;\n",
       "    }\n",
       "\n",
       "    .dataframe thead th {\n",
       "        text-align: right;\n",
       "    }\n",
       "</style>\n",
       "<table border=\"1\" class=\"dataframe\">\n",
       "  <thead>\n",
       "    <tr style=\"text-align: right;\">\n",
       "      <th></th>\n",
       "      <th>file.name</th>\n",
       "      <th>donor</th>\n",
       "      <th>age</th>\n",
       "    </tr>\n",
       "  </thead>\n",
       "  <tbody>\n",
       "    <tr>\n",
       "      <th>0</th>\n",
       "      <td>A6-I200ob.txt.gz</td>\n",
       "      <td>donor1</td>\n",
       "      <td>27</td>\n",
       "    </tr>\n",
       "    <tr>\n",
       "      <th>1</th>\n",
       "      <td>A6-I201ob.txt.gz</td>\n",
       "      <td>donor1</td>\n",
       "      <td>30</td>\n",
       "    </tr>\n",
       "    <tr>\n",
       "      <th>2</th>\n",
       "      <td>A6-I202ob.txt.gz</td>\n",
       "      <td>donor2</td>\n",
       "      <td>47</td>\n",
       "    </tr>\n",
       "    <tr>\n",
       "      <th>3</th>\n",
       "      <td>A5-S23.txt.gz</td>\n",
       "      <td>donor2</td>\n",
       "      <td>50</td>\n",
       "    </tr>\n",
       "  </tbody>\n",
       "</table>\n",
       "</div>"
      ],
      "text/plain": [
       "          file.name   donor  age\n",
       "0  A6-I200ob.txt.gz  donor1   27\n",
       "1  A6-I201ob.txt.gz  donor1   30\n",
       "2  A6-I202ob.txt.gz  donor2   47\n",
       "3     A5-S23.txt.gz  donor2   50"
      ]
     },
     "execution_count": 2,
     "metadata": {},
     "output_type": "execute_result"
    }
   ],
   "source": [
    "metadata = pd.read_table('assets/samples/aging_3year/metadata.txt', sep='\\t')\n",
    "metadata"
   ]
  },
  {
   "cell_type": "code",
   "execution_count": 3,
   "metadata": {},
   "outputs": [],
   "source": [
    "lib = SegmentLibrary()\n",
    "\n",
    "def load_dataset(row): #TODO load parallel\n",
    "    return Repertoire(parser.parse_vdjtools('assets/samples/aging_3year/' + row['file.name'], \n",
    "                                     lib=lib),\n",
    "               metadata={('id', row['donor']), \n",
    "                         ('age', row['age'])})\n",
    "\n",
    "datasets = [load_dataset(row) for _, row in metadata.iterrows()]"
   ]
  },
  {
   "cell_type": "code",
   "execution_count": 4,
   "metadata": {},
   "outputs": [
    {
     "name": "stdout",
     "output_type": "stream",
     "text": [
      "Frequency table of 1812062 species and 6943910 individuals:\n",
      "s1=1030393\n",
      "s2=410225\n",
      "s3=173924\n",
      "s4+=197520\n",
      "\n",
      "Diversity indices for 1812062 species and 6943910 individuals:\n",
      "Obs=1812062\n",
      "OPM=260957.01125158594\n",
      "H=10.677371582051762\n",
      "Hpielou=0.7409708104914129\n",
      "Chao=3106116.6606602212\n",
      "Hill=[HillCurvePoint(q=0.005, H_q=1804090.0335481064), HillCurvePoint(q=0.01, H_q=1796093.3749716312), HillCurvePoint(q=0.05, H_q=1731216.9306170254), HillCurvePoint(q=0.1, H_q=1647795.8170080348), HillCurvePoint(q=0.5, H_q=878587.9503284262), HillCurvePoint(q=1.0, H_q=43363.42323100516), HillCurvePoint(q=2.0, H_q=123.75006479012457), HillCurvePoint(q=10.0, H_q=21.666522972644113), HillCurvePoint(q=20.0, H_q=18.447124070772265), HillCurvePoint(q=100.0, H_q=16.397652985197453), HillCurvePoint(q=200.0, H_q=16.16878033347137)]\n",
      "Rarefaction curve=[RarefactionPoint(count_star=0, species=0.0, var_species=0.0, interp=True), RarefactionPoint(count_star=100, species=84.27660320857154, var_species=8.167159430532298, interp=True), RarefactionPoint(count_star=200, species=160.3848354224316, var_species=14.413043270494803, interp=True), RarefactionPoint(count_star=300, species=234.08613669646732, var_species=20.09406460279736, interp=True), RarefactionPoint(count_star=400, species=306.35247677904067, var_species=25.456191012326972, interp=True), RarefactionPoint(count_star=500, species=377.6012727751401, var_species=30.561623343084634, interp=True), RarefactionPoint(count_star=600, species=448.06965745227063, var_species=35.45181105710046, interp=True), RarefactionPoint(count_star=700, species=517.9115202116482, var_species=40.16568887534542, interp=True), RarefactionPoint(count_star=800, species=587.2344673169201, var_species=44.73881550315628, interp=True), RarefactionPoint(count_star=900, species=656.1173005516323, var_species=49.20161875985866, interp=True)]\n"
     ]
    }
   ],
   "source": [
    "print(datasets[0].frequency_table())\n",
    "print(DiversityIndices(datasets[0].frequency_table()))\n",
    "print(RarefactionCurve(datasets[0].frequency_table()))"
   ]
  },
  {
   "cell_type": "code",
   "execution_count": 5,
   "metadata": {},
   "outputs": [
    {
     "data": {
      "text/html": [
       "<div>\n",
       "<style scoped>\n",
       "    .dataframe tbody tr th:only-of-type {\n",
       "        vertical-align: middle;\n",
       "    }\n",
       "\n",
       "    .dataframe tbody tr th {\n",
       "        vertical-align: top;\n",
       "    }\n",
       "\n",
       "    .dataframe thead th {\n",
       "        text-align: right;\n",
       "    }\n",
       "</style>\n",
       "<table border=\"1\" class=\"dataframe\">\n",
       "  <thead>\n",
       "    <tr style=\"text-align: right;\">\n",
       "      <th></th>\n",
       "      <th>age</th>\n",
       "      <th>id</th>\n",
       "      <th>depth</th>\n",
       "      <th>obs</th>\n",
       "      <th>opm</th>\n",
       "      <th>shannon</th>\n",
       "      <th>pielou</th>\n",
       "      <th>chao</th>\n",
       "    </tr>\n",
       "  </thead>\n",
       "  <tbody>\n",
       "    <tr>\n",
       "      <th>0</th>\n",
       "      <td>27</td>\n",
       "      <td>donor1</td>\n",
       "      <td>6943910</td>\n",
       "      <td>1812062</td>\n",
       "      <td>260957.011252</td>\n",
       "      <td>10.677372</td>\n",
       "      <td>0.740971</td>\n",
       "      <td>3.106117e+06</td>\n",
       "    </tr>\n",
       "    <tr>\n",
       "      <th>1</th>\n",
       "      <td>30</td>\n",
       "      <td>donor1</td>\n",
       "      <td>1526650</td>\n",
       "      <td>758985</td>\n",
       "      <td>497157.174205</td>\n",
       "      <td>11.596713</td>\n",
       "      <td>0.856495</td>\n",
       "      <td>2.435931e+06</td>\n",
       "    </tr>\n",
       "    <tr>\n",
       "      <th>2</th>\n",
       "      <td>47</td>\n",
       "      <td>donor2</td>\n",
       "      <td>5927514</td>\n",
       "      <td>954170</td>\n",
       "      <td>160973.048735</td>\n",
       "      <td>9.005132</td>\n",
       "      <td>0.654034</td>\n",
       "      <td>1.615412e+06</td>\n",
       "    </tr>\n",
       "    <tr>\n",
       "      <th>3</th>\n",
       "      <td>50</td>\n",
       "      <td>donor2</td>\n",
       "      <td>517858</td>\n",
       "      <td>137624</td>\n",
       "      <td>265756.249783</td>\n",
       "      <td>7.579462</td>\n",
       "      <td>0.640575</td>\n",
       "      <td>5.310692e+05</td>\n",
       "    </tr>\n",
       "  </tbody>\n",
       "</table>\n",
       "</div>"
      ],
      "text/plain": [
       "   age      id    depth      obs            opm    shannon    pielou  \\\n",
       "0   27  donor1  6943910  1812062  260957.011252  10.677372  0.740971   \n",
       "1   30  donor1  1526650   758985  497157.174205  11.596713  0.856495   \n",
       "2   47  donor2  5927514   954170  160973.048735   9.005132  0.654034   \n",
       "3   50  donor2   517858   137624  265756.249783   7.579462  0.640575   \n",
       "\n",
       "           chao  \n",
       "0  3.106117e+06  \n",
       "1  2.435931e+06  \n",
       "2  1.615412e+06  \n",
       "3  5.310692e+05  "
      ]
     },
     "execution_count": 5,
     "metadata": {},
     "output_type": "execute_result"
    }
   ],
   "source": [
    "pd.DataFrame([dict(ds.metadata) | DiversityIndices(ds.frequency_table()).as_dict() for ds in datasets])"
   ]
  }
 ],
 "metadata": {
  "kernelspec": {
   "display_name": ".venv",
   "language": "python",
   "name": "python3"
  },
  "language_info": {
   "codemirror_mode": {
    "name": "ipython",
    "version": 3
   },
   "file_extension": ".py",
   "mimetype": "text/x-python",
   "name": "python",
   "nbconvert_exporter": "python",
   "pygments_lexer": "ipython3",
   "version": "3.11.4"
  },
  "orig_nbformat": 4
 },
 "nbformat": 4,
 "nbformat_minor": 2
}
