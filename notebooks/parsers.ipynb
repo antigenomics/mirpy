{
 "cells": [
  {
   "cell_type": "code",
   "execution_count": 1,
   "metadata": {},
   "outputs": [],
   "source": [
    "import sys\n",
    "sys.path.append(\"../\")\n",
    "from mir.common import parser\n",
    "from mir.common.segments import SegmentLibrary"
   ]
  },
  {
   "cell_type": "code",
   "execution_count": 2,
   "metadata": {},
   "outputs": [
    {
     "ename": "TypeError",
     "evalue": "parse_vdjdb_slim() got an unexpected keyword argument 'warnings'",
     "output_type": "error",
     "traceback": [
      "\u001b[0;31m---------------------------------------------------------------------------\u001b[0m",
      "\u001b[0;31mTypeError\u001b[0m                                 Traceback (most recent call last)",
      "Cell \u001b[0;32mIn[2], line 2\u001b[0m\n\u001b[1;32m      1\u001b[0m lib \u001b[39m=\u001b[39m SegmentLibrary()\n\u001b[0;32m----> 2\u001b[0m vdjdb_slim \u001b[39m=\u001b[39m parser\u001b[39m.\u001b[39;49mparse_vdjdb_slim(\u001b[39m'\u001b[39;49m\u001b[39massets/vdjdb.slim.txt\u001b[39;49m\u001b[39m'\u001b[39;49m, lib\u001b[39m=\u001b[39;49mlib, gene\u001b[39m=\u001b[39;49m\u001b[39m'\u001b[39;49m\u001b[39mTRA\u001b[39;49m\u001b[39m'\u001b[39;49m, warnings\u001b[39m=\u001b[39;49m\u001b[39mTrue\u001b[39;49;00m)\n\u001b[1;32m      3\u001b[0m \u001b[39mprint\u001b[39m([(c\u001b[39m.\u001b[39mv, c\u001b[39m.\u001b[39mcdr3aa) \u001b[39mfor\u001b[39;00m c \u001b[39min\u001b[39;00m vdjdb_slim[\u001b[39m0\u001b[39m:\u001b[39m10\u001b[39m]])\n",
      "\u001b[0;31mTypeError\u001b[0m: parse_vdjdb_slim() got an unexpected keyword argument 'warnings'"
     ]
    }
   ],
   "source": [
    "lib = SegmentLibrary()\n",
    "vdjdb_slim = parser.parse_vdjdb_slim('assets/vdjdb.slim.txt', lib=lib, gene='TRA', warn=True)\n",
    "print([(c.v, c.cdr3aa) for c in vdjdb_slim[0:10]])"
   ]
  },
  {
   "cell_type": "code",
   "execution_count": null,
   "metadata": {},
   "outputs": [],
   "source": [
    "olga = parser.parse_olga('assets/olga_humanTRB.txt', lib = lib)\n",
    "print([(c.v, c.cdr3aa) for c in olga[0:10]])"
   ]
  }
 ],
 "metadata": {
  "kernelspec": {
   "display_name": ".venv",
   "language": "python",
   "name": "python3"
  },
  "language_info": {
   "codemirror_mode": {
    "name": "ipython",
    "version": 3
   },
   "file_extension": ".py",
   "mimetype": "text/x-python",
   "name": "python",
   "nbconvert_exporter": "python",
   "pygments_lexer": "ipython3",
   "version": "3.11.4"
  },
  "orig_nbformat": 4
 },
 "nbformat": 4,
 "nbformat_minor": 2
}
