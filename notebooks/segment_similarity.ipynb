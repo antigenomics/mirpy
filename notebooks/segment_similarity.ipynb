{
 "cells": [
  {
   "cell_type": "code",
   "execution_count": null,
   "metadata": {},
   "outputs": [],
   "source": [
    "import sys\n",
    "sys.path.append(\"../\")\n",
    "from mir.common import SegmentLibrary\n",
    "from mir.distances import aligner"
   ]
  },
  {
   "cell_type": "code",
   "execution_count": null,
   "metadata": {},
   "outputs": [],
   "source": [
    "lib = SegmentLibrary.load_default(genes = ['TRA', 'TRB'])\n",
    "print(lib.get_summary())\n",
    "print(lib.get_genes())"
   ]
  },
  {
   "cell_type": "code",
   "execution_count": null,
   "metadata": {},
   "outputs": [],
   "source": [
    "seqs = lib.get_seqaas('TRB', 'V')\n",
    "print(seqs[0:3])"
   ]
  },
  {
   "cell_type": "code",
   "execution_count": null,
   "metadata": {},
   "outputs": [],
   "source": [
    "galn = aligner.AlignGermline.from_seqs(seqs)\n",
    "print(galn.dist)\n",
    "print(galn.score_norm('TRBV10-1*01', 'TRBV10-1*01'))\n",
    "print(galn.score_norm('TRBV10-1*01', 'TRBV10-2*01'))"
   ]
  },
  {
   "cell_type": "code",
   "execution_count": null,
   "metadata": {},
   "outputs": [],
   "source": [
    "import pandas as pd\n",
    "df = pd.DataFrame([(g1, g2, s, galn.score_norm(g1, g2)) for ((g1, g2), s) in galn.dist.items()], \n",
    "                  columns = ['Segm1', 'Segm2', 'Score', 'Score_norm'])\n",
    "print(df)"
   ]
  },
  {
   "cell_type": "code",
   "execution_count": null,
   "metadata": {},
   "outputs": [],
   "source": [
    "import re\n",
    "import seaborn as sns\n",
    "df_sfam = pd.DataFrame([(g, re.split('[-\\\\*]', g)[0]) for (g, s) in seqs],\n",
    "                       columns = ['Segm', 'Fam'])\n",
    "\n",
    "codes, uniques = pd.factorize(df_sfam['Fam'])\n",
    "palette = zip(uniques, sns.color_palette(None, len(uniques)).as_hex())\n",
    "df_sfam = df_sfam.merge(pd.DataFrame(palette, columns = ['Fam', 'Col']))\n",
    "cols = dict(df_sfam[['Segm', 'Col']].itertuples(index=False))"
   ]
  },
  {
   "cell_type": "code",
   "execution_count": null,
   "metadata": {},
   "outputs": [],
   "source": [
    "df1 = df.pivot(index = \"Segm1\", columns = \"Segm2\", values = \"Score\")\n",
    "sns.clustermap(df1, cmap=\"mako\", \n",
    "               row_colors=df1.index.map(cols),\n",
    "               col_colors=df1.index.map(cols))"
   ]
  },
  {
   "cell_type": "code",
   "execution_count": null,
   "metadata": {},
   "outputs": [],
   "source": [
    "from numpy import exp\n",
    "df2 = df.pivot(index = \"Segm1\", columns = \"Segm2\", values = \"Score_norm\")\n",
    "sns.clustermap(exp(df2/300), cmap=\"mako\", \n",
    "               row_colors=df2.index.map(cols),\n",
    "               col_colors=df2.index.map(cols), \n",
    "               xticklabels=True,\n",
    "               yticklabels=True)"
   ]
  }
 ],
 "metadata": {
  "kernelspec": {
   "display_name": ".venv",
   "language": "python",
   "name": "python3"
  },
  "language_info": {
   "codemirror_mode": {
    "name": "ipython",
    "version": 3
   },
   "file_extension": ".py",
   "mimetype": "text/x-python",
   "name": "python",
   "nbconvert_exporter": "python",
   "pygments_lexer": "ipython3",
   "version": "3.11.4"
  },
  "orig_nbformat": 4
 },
 "nbformat": 4,
 "nbformat_minor": 2
}
