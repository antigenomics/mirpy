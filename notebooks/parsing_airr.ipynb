{
 "cells": [
  {
   "cell_type": "code",
   "execution_count": 1,
   "metadata": {},
   "outputs": [],
   "source": [
    "import sys\n",
    "sys.path.append(\"../\")\n",
    "from mir.common.parser import *\n",
    "from mir.common.repertoire import Repertoire"
   ]
  },
  {
   "cell_type": "markdown",
   "metadata": {},
   "source": [
    "Test VDJdb format import"
   ]
  },
  {
   "cell_type": "code",
   "execution_count": 2,
   "metadata": {},
   "outputs": [
    {
     "name": "stderr",
     "output_type": "stream",
     "text": [
      "/Users/mikesh/vcs/mirpy/notebooks/../mir/common/parser.py:123: UserWarning: Error parsing VDJdb line gene                         TRA\n",
      "cdr3                 PWTGIKGKSTF\n",
      "species              HomoSapiens\n",
      "antigen.epitope        GILGFVFTL\n",
      "antigen.gene                   M\n",
      "antigen.species       InfluenzaA\n",
      "complex.id                     0\n",
      "v.segm                       NaN\n",
      "j.segm                 TRAJ27*01\n",
      "v.end                         -1\n",
      "j.start                        6\n",
      "mhc.a                HLA-A*02:01\n",
      "mhc.b                        B2M\n",
      "mhc.class                   MHCI\n",
      "reference.id       PMID:28250417\n",
      "vdjdb.score                    0\n",
      "Name: 165, dtype: object - object of type 'float' has no len()\n",
      "  warnings.warn(f'Error parsing VDJdb line {row} - {e}')\n",
      "/Users/mikesh/vcs/mirpy/notebooks/../mir/common/parser.py:123: UserWarning: Error parsing VDJdb line gene                                                             TRA\n",
      "cdr3                                                  CAAVGETSGSRLTF\n",
      "species                                                  HomoSapiens\n",
      "antigen.epitope                                            KLGGALQAK\n",
      "antigen.gene                                                     IE1\n",
      "antigen.species                                                  CMV\n",
      "complex.id                                                     11982\n",
      "v.segm                                                     TRAV21*01\n",
      "j.segm                                                           NaN\n",
      "v.end                                                              2\n",
      "j.start                                                           -1\n",
      "mhc.a                                                    HLA-A*03:01\n",
      "mhc.b                                                            B2M\n",
      "mhc.class                                                       MHCI\n",
      "reference.id       https://www.10xgenomics.com/resources/applicat...\n",
      "vdjdb.score                                                        0\n",
      "Name: 201, dtype: object - object of type 'float' has no len()\n",
      "  warnings.warn(f'Error parsing VDJdb line {row} - {e}')\n",
      "/Users/mikesh/vcs/mirpy/notebooks/../mir/common/parser.py:123: UserWarning: Error parsing VDJdb line gene                                                             TRA\n",
      "cdr3                                                 CAGPDRQTSGSRLTF\n",
      "species                                                  HomoSapiens\n",
      "antigen.epitope                                            KLGGALQAK\n",
      "antigen.gene                                                     IE1\n",
      "antigen.species                                                  CMV\n",
      "complex.id                                                     11938\n",
      "v.segm                                                     TRAV35*01\n",
      "j.segm                                                           NaN\n",
      "v.end                                                              3\n",
      "j.start                                                           -1\n",
      "mhc.a                                                    HLA-A*03:01\n",
      "mhc.b                                                            B2M\n",
      "mhc.class                                                       MHCI\n",
      "reference.id       https://www.10xgenomics.com/resources/applicat...\n",
      "vdjdb.score                                                        0\n",
      "Name: 210, dtype: object - object of type 'float' has no len()\n",
      "  warnings.warn(f'Error parsing VDJdb line {row} - {e}')\n"
     ]
    },
    {
     "name": "stdout",
     "output_type": "stream",
     "text": [
      "[(Unknown TRAV24*01*01:-1:?, 'CASNTGTASKLTF'), (Unknown TRAV12-2*01*01:-1:?, 'CAVLLEYGNKLVF'), (Unknown TRAV8-2*01*01:-1:?, 'CVVSAIMDSNYQLIW'), (Unknown TRAV27*01*01:-1:?, 'CAGVGGSGGGADGLTF'), (Unknown TRAV4*01*01:-1:?, 'CLVGATTDSWGKLQF')]\n",
      "Repertoire of 28256 clonotypes and 28256 cells:\n",
      "κ3 CASNTGTASKLTF\n",
      "κ6 CAVLLEYGNKLVF\n",
      "κ11 CVVSAIMDSNYQLIW\n",
      "κ12 CAGVGGSGGGADGLTF\n",
      "κ15 CLVGATTDSWGKLQF\n",
      "{'path': 'assets/vdjdb.slim.txt'}\n",
      "...\n"
     ]
    }
   ],
   "source": [
    "parser = VDJdbSlimParser(gene='TRA', warn=3)\n",
    "rep = Repertoire.load(parser, path = 'assets/vdjdb.slim.txt')\n",
    "print([(c.v, c.cdr3aa) for c in rep[0:5]])\n",
    "print(rep)"
   ]
  },
  {
   "cell_type": "markdown",
   "metadata": {},
   "source": [
    "Test IGoR/OLGA format import"
   ]
  },
  {
   "cell_type": "code",
   "execution_count": 3,
   "metadata": {},
   "outputs": [
    {
     "name": "stdout",
     "output_type": "stream",
     "text": [
      "[(Unknown TRBV5-1*01:-1:?, 'CASSWGKGRGLRTDTQYF'), (Unknown TRBV19*01:-1:?, 'CASSIIVRGIQNTEAFF'), (Unknown TRBV27*01:-1:?, 'CASSLAWGPRNQPQHF'), (Unknown TRBV5-1*01:-1:?, 'CASSLARGAYEQYF'), (Unknown TRBV5-1*01:-1:?, 'CASSQAVLYEKLFF')]\n",
      "Repertoire of 100000 clonotypes and 100000 cells:\n",
      "κ0 CASSWGKGRGLRTDTQYF TGCGCCAGCAGCTGGGGAAAGGGGAGGGGCCTCCGCACAGATACGCAGTATTTT\n",
      "κ1 CASSIIVRGIQNTEAFF TGTGCCAGTAGTATTATCGTCAGGGGGATTCAGAACACTGAAGCTTTCTTT\n",
      "κ2 CASSLAWGPRNQPQHF TGTGCCAGCAGTTTAGCTTGGGGACCCCGCAATCAGCCCCAGCATTTT\n",
      "κ3 CASSLARGAYEQYF TGCGCCAGCAGCTTGGCTCGGGGGGCCTACGAGCAGTACTTC\n",
      "κ4 CASSQAVLYEKLFF TGCGCCAGCAGCCAGGCGGTACTTTATGAAAAACTGTTTTTT\n",
      "{'path': 'assets/olga_humanTRB.txt'}\n",
      "...\n"
     ]
    }
   ],
   "source": [
    "parser = OlgaParser()\n",
    "rep = Repertoire.load(parser, path='assets/olga_humanTRB.txt', n=100000)\n",
    "print([(c.v, c.cdr3aa) for c in rep[0:5]])\n",
    "print(rep)"
   ]
  },
  {
   "cell_type": "markdown",
   "metadata": {},
   "source": [
    "Load VDJtools format (positional) data"
   ]
  },
  {
   "cell_type": "code",
   "execution_count": 4,
   "metadata": {},
   "outputs": [
    {
     "name": "stdout",
     "output_type": "stream",
     "text": [
      "[(33675, 'CASRSTGFYNEQFF'), (33660, 'CASSRTGNEQYF'), (27294, 'CAISESLGEQFF'), (18291, 'CASSFEQGNSWTQYF'), (16343, 'CASSLGADTQYF')]\n",
      "Repertoire of 137624 clonotypes and 517858 cells:\n",
      "κ0 CASRSTGFYNEQFF TGTGCCAGCAGATCAACAGGGTTCTACAATGAGCAGTTCTTC\n",
      "κ1 CASSRTGNEQYF TGTGCCAGCAGCAGGACAGGGAACGAGCAGTACTTC\n",
      "κ2 CAISESLGEQFF TGTGCCATCAGTGAGTCGCTTGGTGAGCAGTTCTTC\n",
      "κ3 CASSFEQGNSWTQYF TGTGCCAGCAGTTTCGAGCAGGGAAATTCGTGGACCCAGTACTTC\n",
      "κ4 CASSLGADTQYF TGTGCCAGCAGCTTAGGGGCAGATACGCAGTATTTT\n",
      "{'path': 'assets/samples/aging_3year/A5-S23.txt.gz'}\n",
      "...\n"
     ]
    }
   ],
   "source": [
    "lib = SegmentLibrary.load_default()\n",
    "lib.complete = False\n",
    "parser = VDJtoolsParser(lib)\n",
    "rep = Repertoire.load(parser, path='assets/samples/aging_3year/A5-S23.txt.gz')\n",
    "print([(c.cells, c.cdr3aa) for c in rep[0:5]])\n",
    "print(rep)"
   ]
  }
 ],
 "metadata": {
  "kernelspec": {
   "display_name": ".venv",
   "language": "python",
   "name": "python3"
  },
  "language_info": {
   "codemirror_mode": {
    "name": "ipython",
    "version": 3
   },
   "file_extension": ".py",
   "mimetype": "text/x-python",
   "name": "python",
   "nbconvert_exporter": "python",
   "pygments_lexer": "ipython3",
   "version": "3.11.4"
  },
  "orig_nbformat": 4
 },
 "nbformat": 4,
 "nbformat_minor": 2
}
