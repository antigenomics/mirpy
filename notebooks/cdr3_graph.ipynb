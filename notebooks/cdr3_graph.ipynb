{
 "cells": [
  {
   "cell_type": "code",
   "execution_count": 2,
   "metadata": {},
   "outputs": [],
   "source": [
    "import sys\n",
    "sys.path.append(\"../\")\n",
    "from mir.distances import graph\n",
    "import pandas as pd"
   ]
  },
  {
   "cell_type": "code",
   "execution_count": 3,
   "metadata": {},
   "outputs": [
    {
     "data": {
      "text/plain": [
       "antigen.epitope\n",
       "KLGGALQAK        12667\n",
       "NLVPMVATV         4697\n",
       "GILGFVFTL         3501\n",
       "AVFDRKSDAK        1648\n",
       "ELAGIGILTV        1422\n",
       "                 ...  \n",
       "VMPLSAPTL            1\n",
       "FGDDTVIEV            1\n",
       "KQWLVWLFL            1\n",
       "QHIRCNIPKRISA        1\n",
       "IPTNFTISV            1\n",
       "Name: count, Length: 1168, dtype: int64"
      ]
     },
     "execution_count": 3,
     "metadata": {},
     "output_type": "execute_result"
    }
   ],
   "source": [
    "vdjdb = pd.read_csv('assets/vdjdb.slim.txt', sep='\\t')\n",
    "vdjdb[vdjdb['gene'] == 'TRB']['antigen.epitope'].value_counts()"
   ]
  },
  {
   "cell_type": "code",
   "execution_count": 17,
   "metadata": {},
   "outputs": [
    {
     "name": "stdout",
     "output_type": "stream",
     "text": [
      "2989\n"
     ]
    }
   ],
   "source": [
    "def get_seqs(epi, size = 1000, gene = 'TRB'):\n",
    "    return vdjdb[vdjdb['gene'].eq(gene) & vdjdb['antigen.epitope'].isin(epi)] \\\n",
    "        .groupby('antigen.epitope') \\\n",
    "        .apply(lambda x: x.sample(size, random_state = 42))['cdr3'] \\\n",
    "        .unique()\n",
    "\n",
    "epi_seqs = get_seqs(['GLCTLVAML', 'GILGFVFTL', 'NLVPMVATV'])\n",
    "print(len(epi_seqs))"
   ]
  },
  {
   "cell_type": "code",
   "execution_count": 25,
   "metadata": {},
   "outputs": [
    {
     "name": "stdout",
     "output_type": "stream",
     "text": [
      "[('CASSTRSGETQYF', 'CASSGRSGETQYF'), ('CASSTRSGETQYF', 'CASSTRAGETQYF'), ('CASSTRSGETQYF', 'CASSTRSAETQYF'), ('CANSIRSTETQYF', 'CAGSIRSTETQYF'), ('CASSIRSAYEQFF', 'CASSIRSAHEQFF'), ('CASSHRSTGELFF', 'CASSHRATGELFF'), ('CASSHRSTGELFF', 'CASSARSTGELFF'), ('CASSPRSGETQYF', 'CASSGRSGETQYF'), ('CASSSRSGVEQFF', 'CASSSRSGNEQFF')]\n",
      "No parallel hamming 26.623914003372192\n",
      "[('CASSTRSGETQYF', 'CASSGRSGETQYF'), ('CASSTRSGETQYF', 'CASSTRAGETQYF'), ('CASSTRSGETQYF', 'CASSTRSAETQYF'), ('CANSIRSTETQYF', 'CAGSIRSTETQYF'), ('CASSIRSAYEQFF', 'CASSIRSAHEQFF'), ('CASSHRSTGELFF', 'CASSHRATGELFF'), ('CASSHRSTGELFF', 'CASSARSTGELFF'), ('CASSPRSGETQYF', 'CASSGRSGETQYF'), ('CASSSRSGVEQFF', 'CASSSRSGNEQFF')]\n",
      "Parallel 4 process hamming 5.401999235153198\n"
     ]
    }
   ],
   "source": [
    "import time\n",
    "\n",
    "start = time.time()\n",
    "dist = graph.HammingDistances(epi_seqs, nproc=1)\n",
    "print([x for x in dist.get_edges()][1:10])\n",
    "end = time.time()\n",
    "print('No parallel hamming', end - start)\n",
    "\n",
    "start = time.time()\n",
    "dist = graph.HammingDistances(epi_seqs, nproc=8, chunk_sz=4096)\n",
    "print([x for x in dist.get_edges()][1:10])\n",
    "end = time.time()\n",
    "print('Parallel 8 process hamming', end - start)\n"
   ]
  },
  {
   "cell_type": "code",
   "execution_count": 26,
   "metadata": {},
   "outputs": [
    {
     "name": "stdout",
     "output_type": "stream",
     "text": [
      "[('CASSTRSGETQYF', 'CASSGRSGETQYF'), ('CASSTRSGETQYF', 'CASSTRAGETQYF'), ('CASSTRSGETQYF', 'CASSTRSAETQYF'), ('CANSIRSTETQYF', 'CAGSIRSTETQYF'), ('CASSIRSAYEQFF', 'CASSIRSAHEQFF'), ('CASSHRSTGELFF', 'CASSHRATGELFF'), ('CASSHRSTGELFF', 'CASSARSTGELFF'), ('CASSPRSGETQYF', 'CASSGRSGETQYF'), ('CASSSRSGVEQFF', 'CASSSRSGNEQFF'), ('CASSSRSGVEQFF', 'CASSSRSGHEQFF')]\n"
     ]
    }
   ],
   "source": [
    "print([x for x in dist.get_edges()][1:11])"
   ]
  }
 ],
 "metadata": {
  "kernelspec": {
   "display_name": "Python 3",
   "language": "python",
   "name": "python3"
  },
  "language_info": {
   "codemirror_mode": {
    "name": "ipython",
    "version": 3
   },
   "file_extension": ".py",
   "mimetype": "text/x-python",
   "name": "python",
   "nbconvert_exporter": "python",
   "pygments_lexer": "ipython3",
   "version": "3.11.4"
  }
 },
 "nbformat": 4,
 "nbformat_minor": 2
}
