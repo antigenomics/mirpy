{
 "cells": [
  {
   "cell_type": "code",
   "execution_count": null,
   "metadata": {},
   "outputs": [],
   "source": [
    "import sys\n",
    "sys.path.append(\"../\")\n",
    "from mir.common import RepertoireDataset, VDJtoolsParser\n",
    "from mir.basic import FrequencyTable, DiversityIndices, RarefactionCurve\n",
    "import pandas as pd\n",
    "from plotnine import *"
   ]
  },
  {
   "cell_type": "markdown",
   "metadata": {},
   "source": [
    "Load metadata"
   ]
  },
  {
   "cell_type": "code",
   "execution_count": null,
   "metadata": {},
   "outputs": [],
   "source": [
    "metadata = pd.read_table('assets/samples/aging_3year/metadata.txt', sep='\\t')\n",
    "metadata"
   ]
  },
  {
   "cell_type": "markdown",
   "metadata": {},
   "source": [
    "Load four repertoires for two donors taken 3 years apart"
   ]
  },
  {
   "cell_type": "code",
   "execution_count": null,
   "metadata": {},
   "outputs": [],
   "source": [
    "dataset = RepertoireDataset.load(parser=VDJtoolsParser(), \n",
    "                                 metadata=metadata,\n",
    "                                 paths=['assets/samples/aging_3year/' + r['file_name'] \n",
    "                                        for _, r in metadata.iterrows()])\n",
    "print(dataset)"
   ]
  },
  {
   "cell_type": "markdown",
   "metadata": {},
   "source": [
    "Compute clonotype frequency tables"
   ]
  },
  {
   "cell_type": "code",
   "execution_count": null,
   "metadata": {},
   "outputs": [],
   "source": [
    "freq_table = FrequencyTable.from_repertoire(dataset[0])\n",
    "print(freq_table)\n",
    "print(DiversityIndices(freq_table))\n",
    "print(RarefactionCurve(freq_table))"
   ]
  },
  {
   "cell_type": "markdown",
   "metadata": {},
   "source": [
    "Diversity index table"
   ]
  },
  {
   "cell_type": "code",
   "execution_count": null,
   "metadata": {},
   "outputs": [],
   "source": [
    "DiversityIndices.for_dataset(dataset)"
   ]
  },
  {
   "cell_type": "markdown",
   "metadata": {},
   "source": [
    "Hill curve plot"
   ]
  },
  {
   "cell_type": "code",
   "execution_count": null,
   "metadata": {},
   "outputs": [],
   "source": [
    "df_hc = DiversityIndices.hill_curve_for_dataset(dataset)\n",
    "df_hc['age'] = df_hc['age'].apply(lambda x: '+3years' if x not in {27, 47} else 'baseline')\n",
    "plt = (ggplot(df_hc, aes(x='q', y='H_q', \n",
    "                         color='donor', linetype='age')) + \n",
    "       geom_vline(xintercept=1., color='lightgrey') +\n",
    "       geom_line() + \n",
    "       scale_x_log10(name='q') +\n",
    "       scale_y_log10(name='H_q') +\n",
    "       scale_color_manual(values=['blue', 'red'],\n",
    "                          labels=['young', 'old']) +\n",
    "       theme_classic())\n",
    "print(plt) "
   ]
  },
  {
   "cell_type": "markdown",
   "metadata": {},
   "source": [
    "Rarefaction curves"
   ]
  },
  {
   "cell_type": "code",
   "execution_count": null,
   "metadata": {},
   "outputs": [],
   "source": [
    "df_rarefy = RarefactionCurve.for_dataset(dataset)\n",
    "df_rarefy['age'] = df_rarefy['age'].apply(lambda x: '+3years' if x not in {27, 47} else 'baseline')\n",
    "plt = (ggplot(df_rarefy, aes(group = 'file_name', x='count_star', y='species')) +         \n",
    "       geom_ribbon(aes(ymin='species - 1.96 * var_species ** 0.5', \n",
    "                       ymax='species + 1.96 * var_species ** 0.5'), alpha=0.25) +\n",
    "       geom_line(aes(color='donor', linetype='age')) + \n",
    "       scale_color_manual(values=['blue', 'red'],\n",
    "                          labels=['young', 'old']) +\n",
    "       theme_classic())\n",
    "print(plt) "
   ]
  }
 ],
 "metadata": {
  "kernelspec": {
   "display_name": ".venv",
   "language": "python",
   "name": "python3"
  },
  "language_info": {
   "codemirror_mode": {
    "name": "ipython",
    "version": 3
   },
   "file_extension": ".py",
   "mimetype": "text/x-python",
   "name": "python",
   "nbconvert_exporter": "python",
   "pygments_lexer": "ipython3",
   "version": "3.11.4"
  },
  "orig_nbformat": 4
 },
 "nbformat": 4,
 "nbformat_minor": 2
}
