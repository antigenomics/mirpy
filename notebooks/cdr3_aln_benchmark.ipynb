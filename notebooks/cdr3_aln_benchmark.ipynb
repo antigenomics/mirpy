{
 "cells": [
  {
   "cell_type": "code",
   "execution_count": 1,
   "metadata": {},
   "outputs": [],
   "source": [
    "import sys\n",
    "sys.path.insert(0, \"..\")\n",
    "import pandas as pd"
   ]
  },
  {
   "cell_type": "markdown",
   "metadata": {},
   "source": [
    "Load highly similar groups of CDR3s (clusters) recognizing GIL epitope from VDJdb"
   ]
  },
  {
   "cell_type": "code",
   "execution_count": 2,
   "metadata": {},
   "outputs": [
    {
     "name": "stdout",
     "output_type": "stream",
     "text": [
      "988\n",
      "          species antigen.epitope antigen.gene antigen.species     mhc.a  \\\n",
      "1082  HomoSapiens       GILGFVFTL            M      InfluenzaA  HLA-A*02   \n",
      "1083  HomoSapiens       GILGFVFTL            M      InfluenzaA  HLA-A*02   \n",
      "1084  HomoSapiens       GILGFVFTL            M      InfluenzaA  HLA-A*02   \n",
      "1085  HomoSapiens       GILGFVFTL            M      InfluenzaA  HLA-A*02   \n",
      "1086  HomoSapiens       GILGFVFTL            M      InfluenzaA  HLA-A*02   \n",
      "\n",
      "     mhc.b mhc.class gene        cdr3aa            x            y  \\\n",
      "1082   B2M      MHCI  TRB  CASSIGHYGYTF   380.163708  1227.500568   \n",
      "1083   B2M      MHCI  TRB  CASSIGIGEAFF  1686.729075 -1314.696379   \n",
      "1084   B2M      MHCI  TRB  CASSIGIHGYTF   467.424461  1415.062218   \n",
      "1085   B2M      MHCI  TRB  CASSIGIYGYTF   419.906101  1196.109283   \n",
      "1086   B2M      MHCI  TRB  CASSIGLFGYTF   590.918991  1361.202775   \n",
      "\n",
      "                   cid  csz     v.segm      j.segm  v.end  j.start  \\\n",
      "1082  H.B.GILGFVFTL.13   92  TRBV19*01  TRBJ1-2*01      5        7   \n",
      "1083  H.B.GILGFVFTL.34    7  TRBV19*01  TRBJ1-1*01      5        8   \n",
      "1084  H.B.GILGFVFTL.13   92  TRBV19*01  TRBJ1-2*01      5        8   \n",
      "1085  H.B.GILGFVFTL.13   92  TRBV19*01  TRBJ1-2*01      5        7   \n",
      "1086  H.B.GILGFVFTL.13   92  TRBV19*01  TRBJ1-2*01      5        8   \n",
      "\n",
      "     v.segm.repr j.segm.repr  \n",
      "1082   TRBV19*01  TRBJ1-2*01  \n",
      "1083   TRBV19*01  TRBJ1-1*01  \n",
      "1084   TRBV19*01  TRBJ1-2*01  \n",
      "1085   TRBV19*01  TRBJ1-2*01  \n",
      "1086   TRBV19*01  TRBJ1-2*01  \n"
     ]
    }
   ],
   "source": [
    "vdjdb = pd.read_csv('assets/cluster_members.txt', sep='\\t')\n",
    "vdjdb = vdjdb[(vdjdb['gene'] == 'TRB') & (vdjdb['antigen.epitope'].str.startswith('GIL'))]\n",
    "print(len(vdjdb.index))\n",
    "print(vdjdb.head())"
   ]
  },
  {
   "cell_type": "code",
   "execution_count": 3,
   "metadata": {},
   "outputs": [
    {
     "name": "stdout",
     "output_type": "stream",
     "text": [
      "19.94194507598877\n",
      "16.03041410446167\n",
      "1.90346097946167\n"
     ]
    }
   ],
   "source": [
    "import time\n",
    "import sys\n",
    "sys.path.append(\"../\")\n",
    "import biotite.sequence as seq\n",
    "import biotite.sequence.align as aln\n",
    "from mir.distances.aligner import CDRAligner\n",
    "matrix = aln.SubstitutionMatrix.std_protein_matrix()\n",
    "\n",
    "start = time.time()\n",
    "for cdr1 in vdjdb['cdr3aa'][0:100]:\n",
    "    for cdr2 in vdjdb['cdr3aa']:\n",
    "        alignment = aln.align_banded(\n",
    "            seq.ProteinSequence(cdr1), seq.ProteinSequence(cdr2), matrix,\n",
    "            band=(-3, 3), gap_penalty=(-6, -1)\n",
    "        )[0]\n",
    "end = time.time()\n",
    "print(end - start)\n",
    "\n",
    "cdrs = [seq.ProteinSequence(x) for x in vdjdb['cdr3aa']]\n",
    "\n",
    "start = time.time()\n",
    "for cdr1 in cdrs[0:100]:\n",
    "    for cdr2 in cdrs:\n",
    "        alignment = aln.align_banded(\n",
    "            cdr1, cdr2, matrix,\n",
    "            band=(-3, 3), gap_penalty=(-6, -1)\n",
    "        )[0]\n",
    "end = time.time()\n",
    "print(end - start)\n",
    "\n",
    "my_aln = CDRAligner()\n",
    "start = time.time()\n",
    "for cdr1 in vdjdb['cdr3aa'][0:100]:\n",
    "    for cdr2 in vdjdb['cdr3aa']:\n",
    "        alignment = my_aln.score(cdr1, cdr2)\n",
    "end = time.time()\n",
    "print(end - start)\n"
   ]
  }
 ],
 "metadata": {
  "kernelspec": {
   "display_name": ".venv",
   "language": "python",
   "name": "python3"
  },
  "language_info": {
   "codemirror_mode": {
    "name": "ipython",
    "version": 3
   },
   "file_extension": ".py",
   "mimetype": "text/x-python",
   "name": "python",
   "nbconvert_exporter": "python",
   "pygments_lexer": "ipython3",
   "version": "3.11.4"
  },
  "orig_nbformat": 4
 },
 "nbformat": 4,
 "nbformat_minor": 2
}
